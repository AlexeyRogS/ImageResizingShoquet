{
 "cells": [
  {
   "cell_type": "code",
   "execution_count": 1,
   "metadata": {},
   "outputs": [],
   "source": [
    "import numpy as np\n",
    "import os\n",
    "import cv2\n",
    "import pandas as pd\n",
    "import copy\n",
    "import math"
   ]
  },
  {
   "cell_type": "code",
   "execution_count": 2,
   "metadata": {},
   "outputs": [],
   "source": [
    "def load_data(dir_name = 'images'):    \n",
    "    imgs = []\n",
    "    files = os.listdir(dir_name)\n",
    "    for filename in filter(lambda x: x.endswith('png'), files):\n",
    "        img = cv2.imread(os.path.join(dir_name, filename), 0)\n",
    "        imgs.append(img.astype(float))\n",
    "    return imgs"
   ]
  },
  {
   "cell_type": "code",
   "execution_count": 3,
   "metadata": {},
   "outputs": [],
   "source": [
    "def expend_img(input_img, window_size=2, stride=2):\n",
    "    width = img.shape[1]\n",
    "    height = img.shape[0]\n",
    "    width_strides = width // stride if width % stride == 0 else width // stride + 1\n",
    "    height_strides = height // stride if height % stride == 0 else height // stride + 1\n",
    "    width_idx = stride * (width_strides - 1)\n",
    "    height_idx = stride * (height_strides - 1)\n",
    "    lack_w = (window_size - 1) - (width - 1 - width_idx)\n",
    "    lack_h = (window_size - 1) - (height - 1 - height_idx)\n",
    "    \n",
    "    result = img.T.tolist()\n",
    "    for i in range(lack_w):\n",
    "        result.append((img.T[-lack_w:])[i].tolist())\n",
    "    result = np.array(result).T\n",
    "    \n",
    "    result = result.tolist()\n",
    "    for j in range(lack_h):\n",
    "        result.append((result[-lack_h:])[j])\n",
    "        \n",
    "    return np.array(result)"
   ]
  },
  {
   "cell_type": "code",
   "execution_count": 4,
   "metadata": {},
   "outputs": [],
   "source": [
    "def compute_choquet(img_wind, q):\n",
    "    wind = img_wind.copy()\n",
    "    wind.resize(wind.shape[0] * wind.shape[1])\n",
    "    wind = wind.tolist()\n",
    "    wind.append(0)\n",
    "    wind.sort()\n",
    "    \n",
    "    result = 0\n",
    "    for i in range(1, len(wind)):\n",
    "        m = ((len(wind) - i) / (len(wind) - 1)) ** q\n",
    "        result += (wind[i] - wind[i - 1]) * m\n",
    "    \n",
    "    return result"
   ]
  },
  {
   "cell_type": "code",
   "execution_count": 5,
   "metadata": {},
   "outputs": [],
   "source": [
    "def CMin_compute(img_wind, q):\n",
    "    wind = img_wind.copy() / 255\n",
    "    wind.resize(wind.shape[0] * wind.shape[1])\n",
    "    wind = wind.tolist()\n",
    "    wind.append(0)\n",
    "    wind.sort()\n",
    "    \n",
    "    result = 0\n",
    "    for i in range(1, len(wind)):\n",
    "        m = ((len(wind) - i) / (len(wind) - 1)) ** q\n",
    "        result = result + (min(wind[i], m) - min(wind[i - 1], m))\n",
    "    \n",
    "    return result"
   ]
  },
  {
   "cell_type": "code",
   "execution_count": 6,
   "metadata": {},
   "outputs": [],
   "source": [
    "def aggr(img, window_size=2, stride=2, q=0.1):\n",
    "    max_result_img = []\n",
    "    mean_result_img = []\n",
    "    choquet_result_img = []\n",
    "    CMin_result_img = []\n",
    "    height_index = 0\n",
    "    width_index = 0\n",
    "    while height_index < img.shape[0]:\n",
    "        max_result_img_row = []\n",
    "        mean_result_img_row = []\n",
    "        choquet_result_img_row = []\n",
    "        CMin_result_img_row = []\n",
    "        width_index = 0\n",
    "        while width_index < img.shape[1]:\n",
    "            max_result_img_row.append(np.max(img[height_index : height_index + window_size, width_index : width_index + window_size]))\n",
    "            mean_result_img_row.append(np.mean(img[height_index : height_index + window_size, width_index : width_index + window_size]))\n",
    "            choquet_result_img_row.append(\n",
    "                compute_choquet(img[height_index : height_index + window_size, width_index : width_index + window_size], q)\n",
    "            )\n",
    "            CMin_result_img_row.append(\n",
    "                255*CMin_compute(img[height_index : height_index + window_size, width_index : width_index + window_size], q)\n",
    "            )\n",
    "            width_index += stride\n",
    "        max_result_img.append(max_result_img_row.copy())\n",
    "        mean_result_img.append(mean_result_img_row.copy())\n",
    "        choquet_result_img.append(choquet_result_img_row.copy())\n",
    "        CMin_result_img.append(CMin_result_img_row.copy())\n",
    "        height_index += stride\n",
    "    \n",
    "    return (np.array(max_result_img), np.array(mean_result_img), np.array(choquet_result_img), np.array(CMin_result_img))"
   ]
  },
  {
   "cell_type": "code",
   "execution_count": 7,
   "metadata": {},
   "outputs": [],
   "source": [
    "def my_resize(img, shape, stride=3):\n",
    "    result = np.zeros((shape[0], shape[1]))\n",
    "    for i in range(shape[0]):\n",
    "        for j in range(shape[1]):\n",
    "            result[i][j] = img[i // stride][j // stride]\n",
    "    return result"
   ]
  },
  {
   "cell_type": "markdown",
   "metadata": {},
   "source": [
    "## Функции для расчёта метрик"
   ]
  },
  {
   "cell_type": "code",
   "execution_count": 8,
   "metadata": {},
   "outputs": [],
   "source": [
    "def AD_metric(in_img, agrred_img):\n",
    "    return np.sum(in_img - agrred_img) / (in_img.shape[0]*in_img.shape[1])\n",
    "\n",
    "def SC_metric(in_img, agrred_img):\n",
    "    return np.sum(in_img**2) / np.sum(agrred_img**2)\n",
    "\n",
    "def NK_metric(in_img, agrred_img):\n",
    "    return np.sum(in_img*agrred_img) / np.sum(in_img**2)\n",
    "\n",
    "def MD_metric(in_img, agrred_img):\n",
    "    return np.max(np.abs(in_img - agrred_img))\n",
    "\n",
    "def NAE_metric(in_img, agrred_img):\n",
    "    return np.sum(np.abs(in_img - agrred_img)) / np.sum(np.abs(in_img))\n",
    "\n",
    "def MSE_metric(in_img, agrred_img):\n",
    "    return np.sum((in_img - agrred_img)**2) / (in_img.shape[0] * in_img.shape[1])\n",
    "\n",
    "def PSNR(in_img, agrred_img):\n",
    "    param = 255**2 / MSE_metric(in_img, agrred_img)\n",
    "    return 10*math.log(param, 10)\n",
    "\n"
   ]
  },
  {
   "cell_type": "code",
   "execution_count": 9,
   "metadata": {},
   "outputs": [],
   "source": [
    "def executor():\n",
    "    methods_names = ['max', 'mean', 'choquet', 'CMin']\n",
    "    metrics_names = ['AD', 'SC', 'NK','MD', 'NAE', 'MSE', 'PSNR']\n",
    "    methods = [max_aggr_imgs, mean_aggr_imgs, choquet_aggr_imgs, CMin_aggr_imgs]\n",
    "    metrics = [AD_metric, SC_metric, NK_metric, MD_metric, NAE_metric, MSE_metric, PSNR]\n",
    "    results = {str(i+1):{methods_names[j]:{metrics_names[k]: \n",
    "                             metrics[k](imgs[i], methods[j][i]) \n",
    "                                       for k in range(len(metrics))} \n",
    "                     for j in range(len(methods))} \n",
    "           for i in range(len(imgs))}\n",
    "    \n",
    "    everage_results = copy.deepcopy(results['1'])\n",
    "    for method in methods_names:\n",
    "        for metric in metrics_names:\n",
    "            everage = 0\n",
    "            for i in range(len(imgs)):\n",
    "                everage += results[str(i+1)][method][metric]\n",
    "                everage_results[method][metric] = everage / len(imgs)\n",
    "            \n",
    "    fine_ans = pd.DataFrame(columns=['max', 'mean', 'choquet', 'CMin', 'Name'])\n",
    "    \n",
    "    for i in range(len(imgs)):\n",
    "        ans = pd.DataFrame(results[str(i+1)])\n",
    "        ans['Name'] = i+1\n",
    "        ans['Metric'] = ans.index\n",
    "        fine_ans = pd.concat([fine_ans, ans], ignore_index=True, sort=True)\n",
    "        \n",
    "    final_result = fine_ans.groupby(['Name', 'Metric']).max()\n",
    "    final_everage_result = final_result.groupby('Metric').mean()\n",
    "    \n",
    "    \n",
    "    print(final_everage_result)\n",
    "    \n",
    "    writer = pd.ExcelWriter('results\\\\{}X{}stride{}\\\\Results({}).xlsx'.format(wind_size, wind_size, stride, q), engine='xlsxwriter')\n",
    "\n",
    "    final_everage_result.to_excel(writer, 'Лист1')\n",
    "    final_result.to_excel(writer, 'Лист2')\n",
    "\n",
    "    writer.save()"
   ]
  },
  {
   "cell_type": "markdown",
   "metadata": {},
   "source": [
    "## Реализация на наших изображениях"
   ]
  },
  {
   "cell_type": "code",
   "execution_count": 10,
   "metadata": {},
   "outputs": [],
   "source": [
    "imgs = load_data('images')"
   ]
  },
  {
   "cell_type": "code",
   "execution_count": 12,
   "metadata": {},
   "outputs": [],
   "source": [
    "max_aggr_imgs = []\n",
    "mean_aggr_imgs = []\n",
    "choquet_aggr_imgs = []\n",
    "CMin_aggr_imgs = []\n",
    "wind_size = 4\n",
    "stride = 3\n",
    "q = 0.7\n",
    "for img in imgs:\n",
    "    expended_img = expend_img(img, window_size=wind_size, stride=stride)\n",
    "    maximum, mean, choquet, CMin = aggr(expended_img, window_size=wind_size, stride=stride, q=q)    \n",
    "    max_aggr_imgs.append(my_resize(maximum, (img.shape[0], img.shape[1]), stride=stride))\n",
    "    mean_aggr_imgs.append(my_resize(mean, (img.shape[0], img.shape[1]), stride=stride))\n",
    "    choquet_aggr_imgs.append(my_resize(choquet, (img.shape[0], img.shape[1]), stride=stride))\n",
    "    CMin_aggr_imgs.append(my_resize(CMin, (img.shape[0], img.shape[1]), stride=stride))"
   ]
  },
  {
   "cell_type": "code",
   "execution_count": 13,
   "metadata": {},
   "outputs": [
    {
     "name": "stdout",
     "output_type": "stream",
     "text": [
      "               CMin      choquet          max         mean\n",
      "Metric                                                    \n",
      "AD        -7.552049    -7.362377   -41.657028     0.067523\n",
      "MD       161.622862   160.513092   223.750000   165.468750\n",
      "MSE     1614.484001  1471.224679  5595.219289  1335.472390\n",
      "NAE        0.237765     0.221859     0.438137     0.207390\n",
      "NK         0.939662     0.952099     1.179954     0.899384\n",
      "PSNR      16.845944    17.191453    11.749698    17.602046\n",
      "SC         1.009011     0.992858     0.633817     1.139662\n"
     ]
    }
   ],
   "source": [
    "## расчёт метрик и их сохранение в xlsx таблицах\n",
    "executor()"
   ]
  },
  {
   "cell_type": "code",
   "execution_count": 14,
   "metadata": {},
   "outputs": [],
   "source": [
    "## сохранение изображений после агрегации\n",
    "for i in range(len(imgs)):\n",
    "    cv2.imwrite('results\\\\{}X{}stride{}\\\\{}max.png'.format(wind_size, wind_size, stride, i+1), max_aggr_imgs[i])\n",
    "    cv2.imwrite('results\\\\{}X{}stride{}\\\\{}mean.png'.format(wind_size, wind_size, stride, i+1), mean_aggr_imgs[i])\n",
    "    cv2.imwrite('results\\\\{}X{}stride{}\\\\{}choquet.png'.format(wind_size, wind_size, stride, i+1), choquet_aggr_imgs[i])\n",
    "    cv2.imwrite('results\\\\{}X{}stride{}\\\\{}CMin.png'.format(wind_size, wind_size, stride, i+1), CMin_aggr_imgs[i])"
   ]
  },
  {
   "cell_type": "code",
   "execution_count": null,
   "metadata": {},
   "outputs": [],
   "source": []
  }
 ],
 "metadata": {
  "kernelspec": {
   "display_name": "Python 3",
   "language": "python",
   "name": "python3"
  },
  "language_info": {
   "codemirror_mode": {
    "name": "ipython",
    "version": 3
   },
   "file_extension": ".py",
   "mimetype": "text/x-python",
   "name": "python",
   "nbconvert_exporter": "python",
   "pygments_lexer": "ipython3",
   "version": "3.7.5"
  }
 },
 "nbformat": 4,
 "nbformat_minor": 2
}
